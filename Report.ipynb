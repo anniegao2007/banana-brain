{
 "cells": [
  {
   "cell_type": "markdown",
   "metadata": {},
   "source": [
    "# Banana Brain Navigation"
   ]
  },
  {
   "cell_type": "markdown",
   "metadata": {},
   "source": [
    "## The Problem\n",
    "\n",
    "In this project, we train a reinforcement learning agent to navigate and collect bananas in a large, square world. A reward of +1 is provided for collecting a yellow banana, and a reward of -1 is provided for collecting a blue banana. Thus, we want to collect as many yellow bananas as possible while avoiding blue bananas."
   ]
  },
  {
   "cell_type": "markdown",
   "metadata": {},
   "source": [
    "### The Environment\n",
    "\n",
    "We are using an environment from the Unity ML-Agents plugin for this task.\n",
    "\n",
    "The state space has 37 dimensions and contains the agent's velocity, along with ray-based perception of objects around the agent's forward direction. Given this information, the agent has to learn how to best select actions. Four discrete actions are available, corresponding to:\n",
    "\n",
    "0 - move forward.\n",
    "1 - move backward.\n",
    "2 - turn left.\n",
    "3 - turn right.\n",
    "\n",
    "We consider the task \"solved\" when the agent reaches an average score of +13 over 100 consecutive episodes.\n",
    "\n",
    "The following line sets up our development environment."
   ]
  },
  {
   "cell_type": "code",
   "execution_count": 1,
   "metadata": {},
   "outputs": [
    {
     "name": "stdout",
     "output_type": "stream",
     "text": [
      "\u001b[33mDEPRECATION: Python 2.7 will reach the end of its life on January 1st, 2020. Please upgrade your Python as Python 2.7 won't be maintained after that date. A future version of pip will drop support for Python 2.7. More details about Python 2 support in pip, can be found at https://pip.pypa.io/en/latest/development/release-process/#python-2-support\u001b[0m\n",
      "\u001b[31mERROR: Invalid requirement: './python'\n",
      "Hint: It looks like a path. File './python' does not exist.\u001b[0m\n"
     ]
    }
   ],
   "source": [
    "!pip -q install ./python"
   ]
  },
  {
   "cell_type": "markdown",
   "metadata": {},
   "source": [
    "Next, we load all necessary packages for this task, and explore the environment's state and action space."
   ]
  },
  {
   "cell_type": "code",
   "execution_count": 2,
   "metadata": {},
   "outputs": [
    {
     "name": "stderr",
     "output_type": "stream",
     "text": [
      "INFO:unityagents:\n",
      "'Academy' started successfully!\n",
      "Unity Academy name: Academy\n",
      "        Number of Brains: 1\n",
      "        Number of External Brains : 1\n",
      "        Lesson number : 0\n",
      "        Reset Parameters :\n",
      "\t\t\n",
      "Unity brain name: BananaBrain\n",
      "        Number of Visual Observations (per agent): 0\n",
      "        Vector Observation space type: continuous\n",
      "        Vector Observation space size (per agent): 37\n",
      "        Number of stacked Vector Observation: 1\n",
      "        Vector Action space type: discrete\n",
      "        Vector Action space size (per agent): 4\n",
      "        Vector Action descriptions: , , , \n"
     ]
    },
    {
     "name": "stdout",
     "output_type": "stream",
     "text": [
      "BananaBrain\n",
      "Number of agents: 1\n",
      "Number of actions: 4\n",
      "States look like: [ 1.          0.          0.          0.          0.84408134  0.          0.\n",
      "  1.          0.          0.0748472   0.          1.          0.          0.\n",
      "  0.25755     1.          0.          0.          0.          0.74177343\n",
      "  0.          1.          0.          0.          0.25854847  0.          0.\n",
      "  1.          0.          0.09355672  0.          1.          0.          0.\n",
      "  0.31969345  0.          0.        ]\n",
      "States have length: 37\n"
     ]
    }
   ],
   "source": [
    "from unityagents import UnityEnvironment\n",
    "import torch\n",
    "import torch.nn as nn\n",
    "import torch.nn.functional as F\n",
    "import torch.optim as optim\n",
    "import numpy as np\n",
    "from collections import deque, namedtuple\n",
    "import random\n",
    "import matplotlib.pyplot as plt\n",
    "\n",
    "# load the environment\n",
    "#env = UnityEnvironment(file_name=\"Banana_Windows_x86_64/Banana.exe\")\n",
    "env = UnityEnvironment(file_name=\"/data/Banana_Linux_NoVis/Banana.x86_64\")\n",
    "\n",
    "# get the default brain\n",
    "brain_name = env.brain_names[0]\n",
    "print(brain_name)\n",
    "brain = env.brains[brain_name]\n",
    "\n",
    "# reset the environment\n",
    "env_info = env.reset(train_mode=True)[brain_name]\n",
    "\n",
    "# number of agents in the environment\n",
    "print('Number of agents:', len(env_info.agents))\n",
    "\n",
    "# number of actions\n",
    "action_size = brain.vector_action_space_size\n",
    "print('Number of actions:', action_size)\n",
    "\n",
    "# examine the state space \n",
    "state = env_info.vector_observations[0]\n",
    "print('States look like:', state)\n",
    "state_size = len(state)\n",
    "print('States have length:', state_size)"
   ]
  },
  {
   "cell_type": "markdown",
   "metadata": {},
   "source": [
    "We are now ready to build the agent."
   ]
  },
  {
   "cell_type": "markdown",
   "metadata": {},
   "source": [
    "## The Solution"
   ]
  },
  {
   "cell_type": "markdown",
   "metadata": {},
   "source": [
    "### DQN\n",
    "\n",
    "We use a Deep Q-Network (DQN) model to approximate the action-value function of the most recent policy. The network takes in a state through two fully-connected hidden layers of 256 nodes each, producing an output vector the same size as the action space containing the predicted Q-values of each (state, action) pair. The architecture is shown below."
   ]
  },
  {
   "cell_type": "code",
   "execution_count": 3,
   "metadata": {},
   "outputs": [],
   "source": [
    "class DQNet(nn.Module):\n",
    "    def __init__(self, state_size, action_size):\n",
    "        super(DQNet, self).__init__()\n",
    "        self.state_size = state_size\n",
    "        self.action_size = action_size\n",
    "        self.fc_size = 256\n",
    "        self.fc1 = nn.Linear(self.state_size, self.fc_size)\n",
    "        self.fc2 = nn.Linear(self.fc_size, self.fc_size)\n",
    "        self.fc3 = nn.Linear(self.fc_size, self.action_size)\n",
    "    def forward(self, state):\n",
    "        x = F.relu(self.fc1(state))\n",
    "        x = F.relu(self.fc2(x))\n",
    "        x = F.relu(self.fc2(x))\n",
    "        x = self.fc3(x)\n",
    "        return x"
   ]
  },
  {
   "cell_type": "markdown",
   "metadata": {},
   "source": [
    "### A Memory Buffer for Experience Replay\n",
    "\n",
    "The _ReplayBuffer_ class defined below acts as a memory buffer that collects tuples of _(state, action, reward, next_state, done)_ from each step of the agent's training. The _sample()_ function randomly draws a minibatch of experience tuples from the buffer, which the agent uses to update its Q-network. This enables data efficiency in potentially repeated use of samples, while reducing any sequential dependencies within the episodes."
   ]
  },
  {
   "cell_type": "code",
   "execution_count": 4,
   "metadata": {},
   "outputs": [],
   "source": [
    "class ReplayBuffer():\n",
    "    def __init__(self, buffer_size, num_to_sample, device):\n",
    "        self.num_to_sample = num_to_sample\n",
    "        self.buffer = deque(maxlen=int(buffer_size))\n",
    "        self.experience = namedtuple(\"Experience\", field_names=[\"state\", \"action\", \"reward\", \"next_state\", \"done\"])\n",
    "        self.size = 0\n",
    "        self.device = device\n",
    "        \n",
    "    def add(self, s, a, r, n_s, d):\n",
    "        self.buffer.append(self.experience(s, a, r, n_s, d))\n",
    "        self.size += 1\n",
    "        \n",
    "    def sample(self):\n",
    "        experiences = random.sample(self.buffer, k=self.num_to_sample)\n",
    "        states = torch.from_numpy(np.vstack([e.state for e in experiences if e is not None])).float().to(self.device)\n",
    "        actions = torch.from_numpy(np.vstack([e.action for e in experiences if e is not None])).long().to(self.device)\n",
    "        rewards = torch.from_numpy(np.vstack([e.reward for e in experiences if e is not None])).float().to(self.device)\n",
    "        next_states = torch.from_numpy(np.vstack([e.next_state for e in experiences if e is not None])).float().to(self.device)\n",
    "        dones = torch.from_numpy(np.vstack([1 if e.done else 0 for e in experiences if e is not None])).float().to(self.device)\n",
    "        return (states, actions, rewards, next_states, dones)\n",
    "        \n",
    "    def get_len(self):\n",
    "        return self.size"
   ]
  },
  {
   "cell_type": "markdown",
   "metadata": {},
   "source": [
    "### The Agent\n",
    "\n",
    "The RL agent is defined below. It has 2 separate Q-networks, one to update more frequently to reflect an expected value for the total reward, and one to update less frequently as a TD target. Decoupling the networks like this and fixing the target network reduces unwanted sequential dependencies in the data that could cause the network to update its parameters based on a moving target.\n",
    "\n",
    "The local network is updated every 4 time steps and draws a minibatch of size 64 from the replay buffer to update the network's parameters. We use an Adam optimizer to train the local network, with a Mean-Squared Error loss function to compute the TD error. Every 32 steps, we use a parameter tau=0.99 to perform a weighted average update to the target network's weights using the weights of both networks.\n",
    "\n",
    "When selecting actions based on the given state, the agent uses an epsilon-greedy policy, where the value of epsilon starts at 1 and decays with each time step until it reaches a minimum value of 1e-5.\n",
    "\n",
    "Other hyperparameters include a learning rate of alpha=5e-4, a reward discount rate of gamma=0.99, and a replay buffer capacity of 1e5."
   ]
  },
  {
   "cell_type": "code",
   "execution_count": 5,
   "metadata": {},
   "outputs": [],
   "source": [
    "class Agent():\n",
    "    def __init__(self, state_size, action_size, gamma=0.99, alpha=5e-4, tau=0.99, update_freq_local=4, update_freq_target=32, buffer_size=1e5, update_batch_size=64):\n",
    "        # hyperparameters\n",
    "        self.gamma = gamma\n",
    "        self.alpha = alpha\n",
    "        self.update_freq_local = update_freq_local\n",
    "        self.update_freq_target = update_freq_target  # how many time steps to switch out model_target with model_local\n",
    "        self.tau = tau\n",
    "        \n",
    "        # agent parameters\n",
    "        self.state_size = state_size\n",
    "        self.action_size = action_size\n",
    "        self.device = torch.device(\"cuda:0\" if torch.cuda.is_available() else \"cpu\")\n",
    "        self.model_local = DQNet(self.state_size, self.action_size).to(self.device)\n",
    "        self.model_target = DQNet(self.state_size, self.action_size).to(self.device)\n",
    "        self.optimizer = optim.Adam(self.model_local.parameters(), lr=self.alpha)\n",
    "        self.update_batch_size = update_batch_size\n",
    "        self.memory_buffer = ReplayBuffer(buffer_size, self.update_batch_size, self.device)\n",
    "        self.step_num = 0\n",
    "        \n",
    "    def select_action(self, state, epsilon):\n",
    "        state = torch.from_numpy(state).float().unsqueeze(0).to(self.device)\n",
    "        self.model_local.eval()\n",
    "        with torch.no_grad():\n",
    "            action_vals = self.model_local(state)\n",
    "        self.model_local.train()\n",
    "        if random.random() < epsilon:\n",
    "            return np.argmax(action_vals.cpu().data.numpy())\n",
    "        else:\n",
    "            return random.choice(np.arange(self.action_size))\n",
    "    \n",
    "    def update(self, state, action, reward, next_state, done):\n",
    "        self.memory_buffer.add(state, action, reward, next_state, done)\n",
    "        self.step_num += 1\n",
    "        if self.step_num % self.update_freq_local == 0 and self.memory_buffer.get_len() > self.update_batch_size:\n",
    "            self.update_local()\n",
    "        if self.step_num % self.update_freq_target == 0:\n",
    "            self.update_target()\n",
    "    \n",
    "    def update_local(self):\n",
    "        states, actions, rewards, next_states, dones = self.memory_buffer.sample()\n",
    "        \n",
    "        local_vals = self.model_local(states).gather(1, actions)\n",
    "        \n",
    "        next_target_vals = self.model_target(next_states).detach().max(1)[0].unsqueeze(1)\n",
    "        target_vals = rewards + self.gamma * next_target_vals * (1-done)\n",
    "        \n",
    "        loss = F.mse_loss(local_vals, target_vals)\n",
    "        self.optimizer.zero_grad()\n",
    "        loss.backward()\n",
    "        self.optimizer.step()\n",
    "    \n",
    "    def update_target(self):\n",
    "        for target_param, local_param in zip(self.model_target.parameters(), self.model_local.parameters()):\n",
    "            target_param.data.copy_(self.tau*local_param.data + (1.0-self.tau)*target_param.data)\n",
    "    "
   ]
  },
  {
   "cell_type": "markdown",
   "metadata": {},
   "source": [
    "### Putting it Together\n",
    "\n",
    "Now we can train the agent, using a cap of 1000 episodes of at most 100,000 time steps each. The accumulated reward for the last 100 time steps is saved in the *score\\_window* deque, and the task is considered solved when the average value of *score\\_window* exceeds 13.0. The model is then saved into _checkpoint.pth_, and a graph of episode scores sampled every 5 episodes (to reduce noise) is plotted."
   ]
  },
  {
   "cell_type": "code",
   "execution_count": 6,
   "metadata": {},
   "outputs": [
    {
     "name": "stdout",
     "output_type": "stream",
     "text": [
      "Starting Training! state_size=37, action_size=4\n"
     ]
    },
    {
     "name": "stderr",
     "output_type": "stream",
     "text": [
      "/opt/conda/lib/python3.6/site-packages/numpy/core/fromnumeric.py:2889: RuntimeWarning: Mean of empty slice.\n",
      "  out=out, **kwargs)\n",
      "/opt/conda/lib/python3.6/site-packages/numpy/core/_methods.py:80: RuntimeWarning: invalid value encountered in double_scalars\n",
      "  ret = ret.dtype.type(ret / rcount)\n"
     ]
    },
    {
     "name": "stdout",
     "output_type": "stream",
     "text": [
      "Episode 560/1000: avg score=12.99282828282829\n",
      "Environment solved in 560 episodes!\tAverage Score: 13.09\n"
     ]
    },
    {
     "data": {
      "image/png": "[encoded data removed]",
      "text/plain": [
       "<matplotlib.figure.Figure at 0x7f735d290978>"
      ]
     },
     "metadata": {
      "needs_background": "light"
     },
     "output_type": "display_data"
    }
   ],
   "source": [
    "# setup\n",
    "seed = torch.manual_seed(0)\n",
    "env_info = env.reset(train_mode=True)[brain_name]\n",
    "action_size = brain.vector_action_space_size \n",
    "state_size = len(env_info.vector_observations[0])\n",
    "agent = Agent(state_size=state_size, action_size=action_size)\n",
    "scores = []\n",
    "score_window = deque(maxlen=100)\n",
    "num_episodes = 1000\n",
    "max_timesteps = 100000\n",
    "epsilon = 1\n",
    "epsilon_min = 1e-5\n",
    "\n",
    "# train the agent\n",
    "print(f'Starting Training! state_size={state_size}, action_size={action_size}')\n",
    "for ep in range(1, num_episodes+1):\n",
    "    env_info = env.reset(train_mode=True)[brain_name]\n",
    "    state = env_info.vector_observations[0]\n",
    "    ep_score = 0\n",
    "    for step in range(max_timesteps):\n",
    "        action = agent.select_action(state, epsilon)\n",
    "        env_info = env.step(action)[brain_name]\n",
    "        reward = env_info.rewards[0]\n",
    "        next_state = env_info.vector_observations[0]\n",
    "        done = env_info.local_done[0]\n",
    "        agent.update(state, action, reward, next_state, done)\n",
    "        state = next_state\n",
    "        ep_score += reward\n",
    "        epsilon = max(1.0/epsilon, epsilon_min)\n",
    "        if done:\n",
    "            break\n",
    "    print(f'\\rEpisode {ep}/{num_episodes}: avg score={np.mean(score_window)}', end=\"\")\n",
    "    score_window.append(ep_score)\n",
    "    if (ep-1) % 5 == 0:\n",
    "        scores.append(ep_score)\n",
    "    if np.mean(score_window) >= 13.0:\n",
    "        print('\\nEnvironment solved in {:d} episodes!\\tAverage Score: {:.2f}'.format(ep, np.mean(score_window)))\n",
    "        break\n",
    "\n",
    "# save the trained model\n",
    "torch.save(agent.model_local.state_dict(), 'checkpoint.pth')\n",
    "\n",
    "# plot the scores\n",
    "fig = plt.figure()\n",
    "ax = fig.add_subplot(111)\n",
    "plt.plot(np.arange(len(scores)), scores)\n",
    "plt.ylabel('Score')\n",
    "plt.xlabel('Episode #')\n",
    "plt.savefig('learning_curve.png')"
   ]
  },
  {
   "cell_type": "markdown",
   "metadata": {},
   "source": [
    "The results may vary per run, but the model saved in _checkpoint.pth_ solved the environment in 560 episodes, and the corresponding learning curve is saved in *learning\\_curve.png*. As shown in the plot, the overall trend of the agent's score in the environment is positive, and the range of oscillation also decreases as the agent becomes more steady in higher-scoring areas with time.\n",
    "\n",
    "After we obtain satisfactory results, we can close the environment."
   ]
  },
  {
   "cell_type": "code",
   "execution_count": null,
   "metadata": {},
   "outputs": [],
   "source": [
    "env.close()"
   ]
  },
  {
   "cell_type": "markdown",
   "metadata": {},
   "source": [
    "Future work would involve ways of helping the agent solve the environment faster, retain an average score across more episodes for consistency, and perhaps even reach a higher average score to solve the task. The architecture of DQN can be modified to create a set of Dueling Networks, or we can further exploit the use of two Q-networks within the agent to smooth the Q-values using a Double DQN error calculation. Additionally, we can assign weights to each experience tuple in the agent's replay buffer to assign priorities based on the TD error associated with the tuple."
   ]
  }
 ],
 "metadata": {
  "kernelspec": {
   "display_name": "Python 2",
   "language": "python",
   "name": "python2"
  },
  "language_info": {
   "codemirror_mode": {
    "name": "ipython",
    "version": 2
   },
   "file_extension": ".py",
   "mimetype": "text/x-python",
   "name": "python",
   "nbconvert_exporter": "python",
   "pygments_lexer": "ipython2",
   "version": "2.7.16"
  }
 },
 "nbformat": 4,
 "nbformat_minor": 2
}
